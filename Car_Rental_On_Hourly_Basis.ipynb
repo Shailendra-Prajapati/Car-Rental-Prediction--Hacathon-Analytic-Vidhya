{
 "cells": [
  {
   "cell_type": "code",
   "execution_count": 2,
   "metadata": {},
   "outputs": [],
   "source": [
    "import datetime \n",
    "import pandas as pd\n",
    "import numpy as np \n",
    "import matplotlib.pyplot as plt\n",
    "import seaborn as sns\n",
    "import warnings\n",
    "\n",
    "pd.set_option('display.max_columns', None)\n",
    "pd.set_option('display.width', None)\n",
    "warnings.filterwarnings('ignore')"
   ]
  },
  {
   "cell_type": "code",
   "execution_count": 3,
   "metadata": {},
   "outputs": [],
   "source": [
    "# Loading the dataset \n",
    "\n",
    "train = pd.read_csv(\"E:\\\\Edubridge\\\\Kaggle\\\\Analytics\\\\train.csv\")\n",
    "test = pd.read_csv(\"E:\\\\Edubridge\\\\Kaggle\\\\Analytics\\\\test.csv\")\n",
    "sample = pd.read_csv(\"E:\\\\Edubridge\\\\Kaggle\\\\Analytics\\\\sample.csv\")"
   ]
  },
  {
   "cell_type": "code",
   "execution_count": 4,
   "metadata": {},
   "outputs": [
    {
     "data": {
      "text/html": [
       "<div>\n",
       "<style scoped>\n",
       "    .dataframe tbody tr th:only-of-type {\n",
       "        vertical-align: middle;\n",
       "    }\n",
       "\n",
       "    .dataframe tbody tr th {\n",
       "        vertical-align: top;\n",
       "    }\n",
       "\n",
       "    .dataframe thead th {\n",
       "        text-align: right;\n",
       "    }\n",
       "</style>\n",
       "<table border=\"1\" class=\"dataframe\">\n",
       "  <thead>\n",
       "    <tr style=\"text-align: right;\">\n",
       "      <th></th>\n",
       "      <th>date</th>\n",
       "      <th>hour</th>\n",
       "      <th>demand</th>\n",
       "    </tr>\n",
       "  </thead>\n",
       "  <tbody>\n",
       "    <tr>\n",
       "      <th>0</th>\n",
       "      <td>2018-08-18</td>\n",
       "      <td>9</td>\n",
       "      <td>91</td>\n",
       "    </tr>\n",
       "    <tr>\n",
       "      <th>1</th>\n",
       "      <td>2018-08-18</td>\n",
       "      <td>10</td>\n",
       "      <td>21</td>\n",
       "    </tr>\n",
       "    <tr>\n",
       "      <th>2</th>\n",
       "      <td>2018-08-18</td>\n",
       "      <td>13</td>\n",
       "      <td>23</td>\n",
       "    </tr>\n",
       "    <tr>\n",
       "      <th>3</th>\n",
       "      <td>2018-08-18</td>\n",
       "      <td>14</td>\n",
       "      <td>104</td>\n",
       "    </tr>\n",
       "    <tr>\n",
       "      <th>4</th>\n",
       "      <td>2018-08-18</td>\n",
       "      <td>15</td>\n",
       "      <td>81</td>\n",
       "    </tr>\n",
       "  </tbody>\n",
       "</table>\n",
       "</div>"
      ],
      "text/plain": [
       "         date  hour  demand\n",
       "0  2018-08-18     9      91\n",
       "1  2018-08-18    10      21\n",
       "2  2018-08-18    13      23\n",
       "3  2018-08-18    14     104\n",
       "4  2018-08-18    15      81"
      ]
     },
     "execution_count": 4,
     "metadata": {},
     "output_type": "execute_result"
    }
   ],
   "source": [
    "train.head()"
   ]
  },
  {
   "cell_type": "code",
   "execution_count": 5,
   "metadata": {},
   "outputs": [
    {
     "name": "stdout",
     "output_type": "stream",
     "text": [
      "<class 'pandas.core.frame.DataFrame'>\n",
      "RangeIndex: 18247 entries, 0 to 18246\n",
      "Data columns (total 3 columns):\n",
      " #   Column  Non-Null Count  Dtype \n",
      "---  ------  --------------  ----- \n",
      " 0   date    18247 non-null  object\n",
      " 1   hour    18247 non-null  int64 \n",
      " 2   demand  18247 non-null  int64 \n",
      "dtypes: int64(2), object(1)\n",
      "memory usage: 427.8+ KB\n"
     ]
    }
   ],
   "source": [
    "train.info()"
   ]
  },
  {
   "cell_type": "code",
   "execution_count": 6,
   "metadata": {},
   "outputs": [],
   "source": [
    "## Data Pre-Processing"
   ]
  },
  {
   "cell_type": "code",
   "execution_count": 7,
   "metadata": {},
   "outputs": [],
   "source": [
    "# Converting datetime from object datatype to datetime\n",
    "train['date'] = pd.to_datetime(train['date'])\n",
    "test['date'] = pd.to_datetime(test['date'])"
   ]
  },
  {
   "cell_type": "markdown",
   "metadata": {},
   "source": []
  },
  {
   "cell_type": "code",
   "execution_count": 8,
   "metadata": {},
   "outputs": [],
   "source": [
    "# Creating new column year using date column\n",
    "# Year, Month, day, dayofyear, dayofweek, weekofyear, \n",
    "\n",
    "train['year'] = train['date'].dt.year\n",
    "train['month']= train['date'].dt.month\n",
    "train['day']= train['date'].dt.day\n",
    "train['dayofyear']=train['date'].dt.dayofyear\n",
    "train['weekday']= train['date'].dt.weekday\n",
    "train['weekofyear'] = train['date'].dt.weekofyear"
   ]
  },
  {
   "cell_type": "code",
   "execution_count": 9,
   "metadata": {},
   "outputs": [
    {
     "data": {
      "text/html": [
       "<div>\n",
       "<style scoped>\n",
       "    .dataframe tbody tr th:only-of-type {\n",
       "        vertical-align: middle;\n",
       "    }\n",
       "\n",
       "    .dataframe tbody tr th {\n",
       "        vertical-align: top;\n",
       "    }\n",
       "\n",
       "    .dataframe thead th {\n",
       "        text-align: right;\n",
       "    }\n",
       "</style>\n",
       "<table border=\"1\" class=\"dataframe\">\n",
       "  <thead>\n",
       "    <tr style=\"text-align: right;\">\n",
       "      <th></th>\n",
       "      <th>date</th>\n",
       "      <th>hour</th>\n",
       "      <th>demand</th>\n",
       "      <th>year</th>\n",
       "      <th>month</th>\n",
       "      <th>day</th>\n",
       "      <th>dayofyear</th>\n",
       "      <th>weekday</th>\n",
       "      <th>weekofyear</th>\n",
       "    </tr>\n",
       "  </thead>\n",
       "  <tbody>\n",
       "    <tr>\n",
       "      <th>0</th>\n",
       "      <td>2018-08-18</td>\n",
       "      <td>9</td>\n",
       "      <td>91</td>\n",
       "      <td>2018</td>\n",
       "      <td>8</td>\n",
       "      <td>18</td>\n",
       "      <td>230</td>\n",
       "      <td>5</td>\n",
       "      <td>33</td>\n",
       "    </tr>\n",
       "    <tr>\n",
       "      <th>1</th>\n",
       "      <td>2018-08-18</td>\n",
       "      <td>10</td>\n",
       "      <td>21</td>\n",
       "      <td>2018</td>\n",
       "      <td>8</td>\n",
       "      <td>18</td>\n",
       "      <td>230</td>\n",
       "      <td>5</td>\n",
       "      <td>33</td>\n",
       "    </tr>\n",
       "    <tr>\n",
       "      <th>2</th>\n",
       "      <td>2018-08-18</td>\n",
       "      <td>13</td>\n",
       "      <td>23</td>\n",
       "      <td>2018</td>\n",
       "      <td>8</td>\n",
       "      <td>18</td>\n",
       "      <td>230</td>\n",
       "      <td>5</td>\n",
       "      <td>33</td>\n",
       "    </tr>\n",
       "    <tr>\n",
       "      <th>3</th>\n",
       "      <td>2018-08-18</td>\n",
       "      <td>14</td>\n",
       "      <td>104</td>\n",
       "      <td>2018</td>\n",
       "      <td>8</td>\n",
       "      <td>18</td>\n",
       "      <td>230</td>\n",
       "      <td>5</td>\n",
       "      <td>33</td>\n",
       "    </tr>\n",
       "    <tr>\n",
       "      <th>4</th>\n",
       "      <td>2018-08-18</td>\n",
       "      <td>15</td>\n",
       "      <td>81</td>\n",
       "      <td>2018</td>\n",
       "      <td>8</td>\n",
       "      <td>18</td>\n",
       "      <td>230</td>\n",
       "      <td>5</td>\n",
       "      <td>33</td>\n",
       "    </tr>\n",
       "  </tbody>\n",
       "</table>\n",
       "</div>"
      ],
      "text/plain": [
       "        date  hour  demand  year  month  day  dayofyear  weekday  weekofyear\n",
       "0 2018-08-18     9      91  2018      8   18        230        5          33\n",
       "1 2018-08-18    10      21  2018      8   18        230        5          33\n",
       "2 2018-08-18    13      23  2018      8   18        230        5          33\n",
       "3 2018-08-18    14     104  2018      8   18        230        5          33\n",
       "4 2018-08-18    15      81  2018      8   18        230        5          33"
      ]
     },
     "execution_count": 9,
     "metadata": {},
     "output_type": "execute_result"
    }
   ],
   "source": [
    "train.head()"
   ]
  },
  {
   "cell_type": "code",
   "execution_count": 10,
   "metadata": {
    "scrolled": true
   },
   "outputs": [
    {
     "data": {
      "text/html": [
       "<div>\n",
       "<style scoped>\n",
       "    .dataframe tbody tr th:only-of-type {\n",
       "        vertical-align: middle;\n",
       "    }\n",
       "\n",
       "    .dataframe tbody tr th {\n",
       "        vertical-align: top;\n",
       "    }\n",
       "\n",
       "    .dataframe thead th {\n",
       "        text-align: right;\n",
       "    }\n",
       "</style>\n",
       "<table border=\"1\" class=\"dataframe\">\n",
       "  <thead>\n",
       "    <tr style=\"text-align: right;\">\n",
       "      <th></th>\n",
       "      <th>hour</th>\n",
       "      <th>demand</th>\n",
       "      <th>year</th>\n",
       "      <th>month</th>\n",
       "      <th>day</th>\n",
       "      <th>dayofyear</th>\n",
       "      <th>weekday</th>\n",
       "      <th>weekofyear</th>\n",
       "    </tr>\n",
       "  </thead>\n",
       "  <tbody>\n",
       "    <tr>\n",
       "      <th>count</th>\n",
       "      <td>18247.000000</td>\n",
       "      <td>18247.000000</td>\n",
       "      <td>18247.000000</td>\n",
       "      <td>18247.000000</td>\n",
       "      <td>18247.000000</td>\n",
       "      <td>18247.000000</td>\n",
       "      <td>18247.000000</td>\n",
       "      <td>18247.000000</td>\n",
       "    </tr>\n",
       "    <tr>\n",
       "      <th>mean</th>\n",
       "      <td>12.614731</td>\n",
       "      <td>73.991451</td>\n",
       "      <td>2019.396997</td>\n",
       "      <td>6.470324</td>\n",
       "      <td>15.782430</td>\n",
       "      <td>181.799090</td>\n",
       "      <td>3.025867</td>\n",
       "      <td>26.543706</td>\n",
       "    </tr>\n",
       "    <tr>\n",
       "      <th>std</th>\n",
       "      <td>6.544963</td>\n",
       "      <td>41.678988</td>\n",
       "      <td>0.810979</td>\n",
       "      <td>3.618189</td>\n",
       "      <td>8.772904</td>\n",
       "      <td>110.599321</td>\n",
       "      <td>2.003638</td>\n",
       "      <td>15.828694</td>\n",
       "    </tr>\n",
       "    <tr>\n",
       "      <th>min</th>\n",
       "      <td>0.000000</td>\n",
       "      <td>1.000000</td>\n",
       "      <td>2018.000000</td>\n",
       "      <td>1.000000</td>\n",
       "      <td>1.000000</td>\n",
       "      <td>1.000000</td>\n",
       "      <td>0.000000</td>\n",
       "      <td>1.000000</td>\n",
       "    </tr>\n",
       "    <tr>\n",
       "      <th>25%</th>\n",
       "      <td>8.000000</td>\n",
       "      <td>43.000000</td>\n",
       "      <td>2019.000000</td>\n",
       "      <td>3.000000</td>\n",
       "      <td>8.000000</td>\n",
       "      <td>78.000000</td>\n",
       "      <td>1.000000</td>\n",
       "      <td>12.000000</td>\n",
       "    </tr>\n",
       "    <tr>\n",
       "      <th>50%</th>\n",
       "      <td>13.000000</td>\n",
       "      <td>71.000000</td>\n",
       "      <td>2019.000000</td>\n",
       "      <td>7.000000</td>\n",
       "      <td>16.000000</td>\n",
       "      <td>185.000000</td>\n",
       "      <td>3.000000</td>\n",
       "      <td>27.000000</td>\n",
       "    </tr>\n",
       "    <tr>\n",
       "      <th>75%</th>\n",
       "      <td>18.000000</td>\n",
       "      <td>98.000000</td>\n",
       "      <td>2020.000000</td>\n",
       "      <td>10.000000</td>\n",
       "      <td>23.000000</td>\n",
       "      <td>282.000000</td>\n",
       "      <td>5.000000</td>\n",
       "      <td>41.000000</td>\n",
       "    </tr>\n",
       "    <tr>\n",
       "      <th>max</th>\n",
       "      <td>23.000000</td>\n",
       "      <td>379.000000</td>\n",
       "      <td>2021.000000</td>\n",
       "      <td>12.000000</td>\n",
       "      <td>31.000000</td>\n",
       "      <td>366.000000</td>\n",
       "      <td>6.000000</td>\n",
       "      <td>53.000000</td>\n",
       "    </tr>\n",
       "  </tbody>\n",
       "</table>\n",
       "</div>"
      ],
      "text/plain": [
       "               hour        demand          year         month           day  \\\n",
       "count  18247.000000  18247.000000  18247.000000  18247.000000  18247.000000   \n",
       "mean      12.614731     73.991451   2019.396997      6.470324     15.782430   \n",
       "std        6.544963     41.678988      0.810979      3.618189      8.772904   \n",
       "min        0.000000      1.000000   2018.000000      1.000000      1.000000   \n",
       "25%        8.000000     43.000000   2019.000000      3.000000      8.000000   \n",
       "50%       13.000000     71.000000   2019.000000      7.000000     16.000000   \n",
       "75%       18.000000     98.000000   2020.000000     10.000000     23.000000   \n",
       "max       23.000000    379.000000   2021.000000     12.000000     31.000000   \n",
       "\n",
       "          dayofyear       weekday    weekofyear  \n",
       "count  18247.000000  18247.000000  18247.000000  \n",
       "mean     181.799090      3.025867     26.543706  \n",
       "std      110.599321      2.003638     15.828694  \n",
       "min        1.000000      0.000000      1.000000  \n",
       "25%       78.000000      1.000000     12.000000  \n",
       "50%      185.000000      3.000000     27.000000  \n",
       "75%      282.000000      5.000000     41.000000  \n",
       "max      366.000000      6.000000     53.000000  "
      ]
     },
     "execution_count": 10,
     "metadata": {},
     "output_type": "execute_result"
    }
   ],
   "source": [
    "train.describe()"
   ]
  },
  {
   "cell_type": "code",
   "execution_count": 11,
   "metadata": {},
   "outputs": [
    {
     "data": {
      "text/plain": [
       "date          0\n",
       "hour          0\n",
       "demand        0\n",
       "year          0\n",
       "month         0\n",
       "day           0\n",
       "dayofyear     0\n",
       "weekday       0\n",
       "weekofyear    0\n",
       "dtype: int64"
      ]
     },
     "execution_count": 11,
     "metadata": {},
     "output_type": "execute_result"
    }
   ],
   "source": [
    "## Checking for the null values\n",
    "\n",
    "train.isna().sum()"
   ]
  },
  {
   "cell_type": "code",
   "execution_count": 12,
   "metadata": {},
   "outputs": [
    {
     "data": {
      "text/plain": [
       "(18247, 9)"
      ]
     },
     "execution_count": 12,
     "metadata": {},
     "output_type": "execute_result"
    }
   ],
   "source": [
    "train.shape"
   ]
  },
  {
   "cell_type": "code",
   "execution_count": 13,
   "metadata": {},
   "outputs": [],
   "source": [
    "### Droppin the duplicates row from the dataset \n",
    "\n",
    "train.drop_duplicates(subset=None, inplace=True)"
   ]
  },
  {
   "cell_type": "code",
   "execution_count": 14,
   "metadata": {},
   "outputs": [
    {
     "data": {
      "text/plain": [
       "(18247, 9)"
      ]
     },
     "execution_count": 14,
     "metadata": {},
     "output_type": "execute_result"
    }
   ],
   "source": [
    "train.shape"
   ]
  },
  {
   "cell_type": "code",
   "execution_count": 15,
   "metadata": {},
   "outputs": [
    {
     "data": {
      "text/plain": [
       "<AxesSubplot:>"
      ]
     },
     "execution_count": 15,
     "metadata": {},
     "output_type": "execute_result"
    },
    {
     "data": {
      "image/png": "[encoded data removed]",
      "text/plain": [
       "<Figure size 1440x504 with 1 Axes>"
      ]
     },
     "metadata": {
      "needs_background": "light"
     },
     "output_type": "display_data"
    }
   ],
   "source": [
    "# Plotting demand over time\n",
    "#train_date_index = train.set_index('date')\n",
    "\n",
    "train[\"demand\"].plot(figsize=(20, 7))"
   ]
  },
  {
   "cell_type": "code",
   "execution_count": 16,
   "metadata": {
    "scrolled": false
   },
   "outputs": [
    {
     "data": {
      "text/plain": [
       "<seaborn.axisgrid.FacetGrid at 0x191801c8d90>"
      ]
     },
     "execution_count": 16,
     "metadata": {},
     "output_type": "execute_result"
    },
    {
     "data": {
      "text/plain": [
       "<Figure size 720x720 with 0 Axes>"
      ]
     },
     "metadata": {},
     "output_type": "display_data"
    },
    {
     "data": {
      "image/png": "[encoded data removed]",
      "text/plain": [
       "<Figure size 360x360 with 1 Axes>"
      ]
     },
     "metadata": {
      "needs_background": "light"
     },
     "output_type": "display_data"
    }
   ],
   "source": [
    "## Distribution for demand columns which is Right Skewed\n",
    "\n",
    "plt.figure(figsize=(10,10))\n",
    "sns.displot(train['demand'], kde=True, color='g')"
   ]
  },
  {
   "cell_type": "code",
   "execution_count": 17,
   "metadata": {},
   "outputs": [
    {
     "data": {
      "text/plain": [
       "<seaborn.axisgrid.FacetGrid at 0x191821aa640>"
      ]
     },
     "execution_count": 17,
     "metadata": {},
     "output_type": "execute_result"
    },
    {
     "data": {
      "text/plain": [
       "<Figure size 720x720 with 0 Axes>"
      ]
     },
     "metadata": {},
     "output_type": "display_data"
    },
    {
     "data": {
      "image/png": "[encoded data removed]",
      "text/plain": [
       "<Figure size 360x360 with 1 Axes>"
      ]
     },
     "metadata": {
      "needs_background": "light"
     },
     "output_type": "display_data"
    }
   ],
   "source": [
    "# Distribution of Hour Column \n",
    "\n",
    "plt.figure(figsize=(10,10))\n",
    "sns.displot(train['hour'], kde=True, color='b')"
   ]
  },
  {
   "cell_type": "code",
   "execution_count": 18,
   "metadata": {},
   "outputs": [
    {
     "data": {
      "text/plain": [
       "Text(0.5, 1.0, 'Demand at Different Hours across Years')"
      ]
     },
     "execution_count": 18,
     "metadata": {},
     "output_type": "execute_result"
    },
    {
     "data": {
      "image/png": "[encoded data removed]",
      "text/plain": [
       "<Figure size 720x720 with 1 Axes>"
      ]
     },
     "metadata": {
      "needs_background": "light"
     },
     "output_type": "display_data"
    }
   ],
   "source": [
    "# Plotting demand across hours for each year\n",
    "\n",
    "piv = pd.pivot_table(train, index=['hour'],columns=['year'], values=['demand'])\n",
    "\n",
    "piv.plot(figsize=(10,10)).set_title('Demand at Different Hours across Years', fontweight=\"bold\")"
   ]
  },
  {
   "cell_type": "code",
   "execution_count": 19,
   "metadata": {},
   "outputs": [
    {
     "data": {
      "text/plain": [
       "<AxesSubplot:xlabel='hour', ylabel='demand'>"
      ]
     },
     "execution_count": 19,
     "metadata": {},
     "output_type": "execute_result"
    },
    {
     "data": {
      "image/png": "[encoded data removed]",
      "text/plain": [
       "<Figure size 720x432 with 1 Axes>"
      ]
     },
     "metadata": {
      "needs_background": "light"
     },
     "output_type": "display_data"
    }
   ],
   "source": [
    "## Bar Plot demand using the hor\n",
    "\n",
    "plt.figure(figsize=(10,6))\n",
    "sns.barplot(x='hour', y='demand', data=train)"
   ]
  },
  {
   "cell_type": "markdown",
   "metadata": {},
   "source": [
    "### Observation from the above graphs \n",
    "\n",
    "1. The peak time of Renting the car is between 11:00 to 20:00 \n",
    "2. Every Year the demand is Increasing as per the graphs "
   ]
  },
  {
   "cell_type": "code",
   "execution_count": 20,
   "metadata": {},
   "outputs": [
    {
     "data": {
      "image/png": "[encoded data removed]",
      "text/plain": [
       "<Figure size 720x432 with 1 Axes>"
      ]
     },
     "metadata": {
      "needs_background": "light"
     },
     "output_type": "display_data"
    },
    {
     "data": {
      "image/png": "[encoded data removed]",
      "text/plain": [
       "<Figure size 720x432 with 1 Axes>"
      ]
     },
     "metadata": {
      "needs_background": "light"
     },
     "output_type": "display_data"
    },
    {
     "data": {
      "image/png": "[encoded data removed]",
      "text/plain": [
       "<Figure size 720x432 with 1 Axes>"
      ]
     },
     "metadata": {
      "needs_background": "light"
     },
     "output_type": "display_data"
    }
   ],
   "source": [
    "### Barplot for Damand according to the day, month, year\n",
    "\n",
    "p = ['day', 'month', 'year']\n",
    "for i in p:\n",
    "    plt.figure(figsize=(10,6))\n",
    "    sns.barplot(x=i, y='demand', data=train)"
   ]
  },
  {
   "cell_type": "markdown",
   "metadata": {},
   "source": [
    "### Observations:\n",
    "1. Peak Months of the rental is November and June is at the second place\n",
    "2. Every Year car rental; business is increasing"
   ]
  },
  {
   "cell_type": "code",
   "execution_count": 21,
   "metadata": {},
   "outputs": [
    {
     "data": {
      "text/html": [
       "<div>\n",
       "<style scoped>\n",
       "    .dataframe tbody tr th:only-of-type {\n",
       "        vertical-align: middle;\n",
       "    }\n",
       "\n",
       "    .dataframe tbody tr th {\n",
       "        vertical-align: top;\n",
       "    }\n",
       "\n",
       "    .dataframe thead th {\n",
       "        text-align: right;\n",
       "    }\n",
       "</style>\n",
       "<table border=\"1\" class=\"dataframe\">\n",
       "  <thead>\n",
       "    <tr style=\"text-align: right;\">\n",
       "      <th></th>\n",
       "      <th>date</th>\n",
       "      <th>hour</th>\n",
       "      <th>demand</th>\n",
       "      <th>year</th>\n",
       "      <th>month</th>\n",
       "      <th>day</th>\n",
       "      <th>dayofyear</th>\n",
       "      <th>weekday</th>\n",
       "      <th>weekofyear</th>\n",
       "    </tr>\n",
       "  </thead>\n",
       "  <tbody>\n",
       "    <tr>\n",
       "      <th>0</th>\n",
       "      <td>2018-08-18</td>\n",
       "      <td>9</td>\n",
       "      <td>91</td>\n",
       "      <td>2018</td>\n",
       "      <td>8</td>\n",
       "      <td>18</td>\n",
       "      <td>230</td>\n",
       "      <td>5</td>\n",
       "      <td>33</td>\n",
       "    </tr>\n",
       "    <tr>\n",
       "      <th>1</th>\n",
       "      <td>2018-08-18</td>\n",
       "      <td>10</td>\n",
       "      <td>21</td>\n",
       "      <td>2018</td>\n",
       "      <td>8</td>\n",
       "      <td>18</td>\n",
       "      <td>230</td>\n",
       "      <td>5</td>\n",
       "      <td>33</td>\n",
       "    </tr>\n",
       "    <tr>\n",
       "      <th>2</th>\n",
       "      <td>2018-08-18</td>\n",
       "      <td>13</td>\n",
       "      <td>23</td>\n",
       "      <td>2018</td>\n",
       "      <td>8</td>\n",
       "      <td>18</td>\n",
       "      <td>230</td>\n",
       "      <td>5</td>\n",
       "      <td>33</td>\n",
       "    </tr>\n",
       "    <tr>\n",
       "      <th>3</th>\n",
       "      <td>2018-08-18</td>\n",
       "      <td>14</td>\n",
       "      <td>104</td>\n",
       "      <td>2018</td>\n",
       "      <td>8</td>\n",
       "      <td>18</td>\n",
       "      <td>230</td>\n",
       "      <td>5</td>\n",
       "      <td>33</td>\n",
       "    </tr>\n",
       "    <tr>\n",
       "      <th>4</th>\n",
       "      <td>2018-08-18</td>\n",
       "      <td>15</td>\n",
       "      <td>81</td>\n",
       "      <td>2018</td>\n",
       "      <td>8</td>\n",
       "      <td>18</td>\n",
       "      <td>230</td>\n",
       "      <td>5</td>\n",
       "      <td>33</td>\n",
       "    </tr>\n",
       "  </tbody>\n",
       "</table>\n",
       "</div>"
      ],
      "text/plain": [
       "        date  hour  demand  year  month  day  dayofyear  weekday  weekofyear\n",
       "0 2018-08-18     9      91  2018      8   18        230        5          33\n",
       "1 2018-08-18    10      21  2018      8   18        230        5          33\n",
       "2 2018-08-18    13      23  2018      8   18        230        5          33\n",
       "3 2018-08-18    14     104  2018      8   18        230        5          33\n",
       "4 2018-08-18    15      81  2018      8   18        230        5          33"
      ]
     },
     "execution_count": 21,
     "metadata": {},
     "output_type": "execute_result"
    }
   ],
   "source": [
    "train.head()"
   ]
  },
  {
   "cell_type": "code",
   "execution_count": 22,
   "metadata": {},
   "outputs": [
    {
     "data": {
      "text/html": [
       "<div>\n",
       "<style scoped>\n",
       "    .dataframe tbody tr th:only-of-type {\n",
       "        vertical-align: middle;\n",
       "    }\n",
       "\n",
       "    .dataframe tbody tr th {\n",
       "        vertical-align: top;\n",
       "    }\n",
       "\n",
       "    .dataframe thead th {\n",
       "        text-align: right;\n",
       "    }\n",
       "</style>\n",
       "<table border=\"1\" class=\"dataframe\">\n",
       "  <thead>\n",
       "    <tr style=\"text-align: right;\">\n",
       "      <th></th>\n",
       "      <th>hour</th>\n",
       "      <th>demand</th>\n",
       "      <th>year</th>\n",
       "      <th>month</th>\n",
       "      <th>day</th>\n",
       "      <th>dayofyear</th>\n",
       "      <th>weekday</th>\n",
       "      <th>weekofyear</th>\n",
       "    </tr>\n",
       "  </thead>\n",
       "  <tbody>\n",
       "    <tr>\n",
       "      <th>0</th>\n",
       "      <td>9</td>\n",
       "      <td>91</td>\n",
       "      <td>2018</td>\n",
       "      <td>8</td>\n",
       "      <td>18</td>\n",
       "      <td>230</td>\n",
       "      <td>5</td>\n",
       "      <td>33</td>\n",
       "    </tr>\n",
       "    <tr>\n",
       "      <th>1</th>\n",
       "      <td>10</td>\n",
       "      <td>21</td>\n",
       "      <td>2018</td>\n",
       "      <td>8</td>\n",
       "      <td>18</td>\n",
       "      <td>230</td>\n",
       "      <td>5</td>\n",
       "      <td>33</td>\n",
       "    </tr>\n",
       "    <tr>\n",
       "      <th>2</th>\n",
       "      <td>13</td>\n",
       "      <td>23</td>\n",
       "      <td>2018</td>\n",
       "      <td>8</td>\n",
       "      <td>18</td>\n",
       "      <td>230</td>\n",
       "      <td>5</td>\n",
       "      <td>33</td>\n",
       "    </tr>\n",
       "    <tr>\n",
       "      <th>3</th>\n",
       "      <td>14</td>\n",
       "      <td>104</td>\n",
       "      <td>2018</td>\n",
       "      <td>8</td>\n",
       "      <td>18</td>\n",
       "      <td>230</td>\n",
       "      <td>5</td>\n",
       "      <td>33</td>\n",
       "    </tr>\n",
       "    <tr>\n",
       "      <th>4</th>\n",
       "      <td>15</td>\n",
       "      <td>81</td>\n",
       "      <td>2018</td>\n",
       "      <td>8</td>\n",
       "      <td>18</td>\n",
       "      <td>230</td>\n",
       "      <td>5</td>\n",
       "      <td>33</td>\n",
       "    </tr>\n",
       "  </tbody>\n",
       "</table>\n",
       "</div>"
      ],
      "text/plain": [
       "   hour  demand  year  month  day  dayofyear  weekday  weekofyear\n",
       "0     9      91  2018      8   18        230        5          33\n",
       "1    10      21  2018      8   18        230        5          33\n",
       "2    13      23  2018      8   18        230        5          33\n",
       "3    14     104  2018      8   18        230        5          33\n",
       "4    15      81  2018      8   18        230        5          33"
      ]
     },
     "execution_count": 22,
     "metadata": {},
     "output_type": "execute_result"
    }
   ],
   "source": [
    "# Feature Engineering\n",
    "## Setting date column as Index\n",
    "\n",
    "# train = train.reset_index('date')\n",
    "# Dropping the date column\n",
    "train = train.drop(columns=['date'])\n",
    "train.head()"
   ]
  },
  {
   "cell_type": "code",
   "execution_count": 23,
   "metadata": {
    "scrolled": false
   },
   "outputs": [
    {
     "data": {
      "text/plain": [
       "<AxesSubplot:>"
      ]
     },
     "execution_count": 23,
     "metadata": {},
     "output_type": "execute_result"
    },
    {
     "data": {
      "image/png": "[encoded data removed]",
      "text/plain": [
       "<Figure size 1440x1440 with 2 Axes>"
      ]
     },
     "metadata": {
      "needs_background": "light"
     },
     "output_type": "display_data"
    }
   ],
   "source": [
    "# Checking correlation between the Independent Variable\n",
    "\n",
    "corr = train.corr()\n",
    "mask=np.array(corr)\n",
    "mask[np.tril_indices_from(mask)] = False\n",
    "fig,ax=plt.subplots()\n",
    "fig.set_size_inches(20,20)\n",
    "sns.heatmap(corr, mask=mask, vmax=.8, square=True,annot=True )"
   ]
  },
  {
   "cell_type": "markdown",
   "metadata": {},
   "source": [
    "WeekofYear and DayofYear are highly correlated are of not use is our model"
   ]
  },
  {
   "cell_type": "code",
   "execution_count": 24,
   "metadata": {},
   "outputs": [],
   "source": [
    "## Deleting the column which are Highly correlated and will less contibute to the model\n",
    "\n",
    "train.drop(['dayofyear', 'weekofyear'], axis=1, inplace=True)"
   ]
  },
  {
   "cell_type": "code",
   "execution_count": 25,
   "metadata": {},
   "outputs": [
    {
     "data": {
      "text/html": [
       "<div>\n",
       "<style scoped>\n",
       "    .dataframe tbody tr th:only-of-type {\n",
       "        vertical-align: middle;\n",
       "    }\n",
       "\n",
       "    .dataframe tbody tr th {\n",
       "        vertical-align: top;\n",
       "    }\n",
       "\n",
       "    .dataframe thead th {\n",
       "        text-align: right;\n",
       "    }\n",
       "</style>\n",
       "<table border=\"1\" class=\"dataframe\">\n",
       "  <thead>\n",
       "    <tr style=\"text-align: right;\">\n",
       "      <th></th>\n",
       "      <th>hour</th>\n",
       "      <th>demand</th>\n",
       "      <th>year</th>\n",
       "      <th>month</th>\n",
       "      <th>day</th>\n",
       "      <th>weekday</th>\n",
       "    </tr>\n",
       "  </thead>\n",
       "  <tbody>\n",
       "    <tr>\n",
       "      <th>0</th>\n",
       "      <td>9</td>\n",
       "      <td>91</td>\n",
       "      <td>2018</td>\n",
       "      <td>8</td>\n",
       "      <td>18</td>\n",
       "      <td>5</td>\n",
       "    </tr>\n",
       "    <tr>\n",
       "      <th>1</th>\n",
       "      <td>10</td>\n",
       "      <td>21</td>\n",
       "      <td>2018</td>\n",
       "      <td>8</td>\n",
       "      <td>18</td>\n",
       "      <td>5</td>\n",
       "    </tr>\n",
       "    <tr>\n",
       "      <th>2</th>\n",
       "      <td>13</td>\n",
       "      <td>23</td>\n",
       "      <td>2018</td>\n",
       "      <td>8</td>\n",
       "      <td>18</td>\n",
       "      <td>5</td>\n",
       "    </tr>\n",
       "    <tr>\n",
       "      <th>3</th>\n",
       "      <td>14</td>\n",
       "      <td>104</td>\n",
       "      <td>2018</td>\n",
       "      <td>8</td>\n",
       "      <td>18</td>\n",
       "      <td>5</td>\n",
       "    </tr>\n",
       "    <tr>\n",
       "      <th>4</th>\n",
       "      <td>15</td>\n",
       "      <td>81</td>\n",
       "      <td>2018</td>\n",
       "      <td>8</td>\n",
       "      <td>18</td>\n",
       "      <td>5</td>\n",
       "    </tr>\n",
       "  </tbody>\n",
       "</table>\n",
       "</div>"
      ],
      "text/plain": [
       "   hour  demand  year  month  day  weekday\n",
       "0     9      91  2018      8   18        5\n",
       "1    10      21  2018      8   18        5\n",
       "2    13      23  2018      8   18        5\n",
       "3    14     104  2018      8   18        5\n",
       "4    15      81  2018      8   18        5"
      ]
     },
     "execution_count": 25,
     "metadata": {},
     "output_type": "execute_result"
    }
   ],
   "source": [
    "train.head()"
   ]
  },
  {
   "cell_type": "code",
   "execution_count": 26,
   "metadata": {},
   "outputs": [
    {
     "data": {
      "text/plain": [
       "16    892\n",
       "15    890\n",
       "13    889\n",
       "17    889\n",
       "12    888\n",
       "14    886\n",
       "10    884\n",
       "18    884\n",
       "11    883\n",
       "9     878\n",
       "19    878\n",
       "8     870\n",
       "20    864\n",
       "21    858\n",
       "22    837\n",
       "7     806\n",
       "23    776\n",
       "0     726\n",
       "6     679\n",
       "1     587\n",
       "2     553\n",
       "5     338\n",
       "4     325\n",
       "3     287\n",
       "Name: hour, dtype: int64"
      ]
     },
     "execution_count": 26,
     "metadata": {},
     "output_type": "execute_result"
    }
   ],
   "source": [
    "train['hour'].value_counts()"
   ]
  },
  {
   "cell_type": "markdown",
   "metadata": {},
   "source": [
    "## Modelling"
   ]
  },
  {
   "cell_type": "code",
   "execution_count": 27,
   "metadata": {},
   "outputs": [],
   "source": [
    "# Creating the list of features\n",
    "feature_names = ['hour', 'year', 'month', 'day', 'weekday']\n",
    "# Assigning the data corresponding to features in feature_names\n",
    "X = train[feature_names]\n",
    "y = train['demand']"
   ]
  },
  {
   "cell_type": "code",
   "execution_count": 28,
   "metadata": {},
   "outputs": [
    {
     "name": "stdout",
     "output_type": "stream",
     "text": [
      "                            OLS Regression Results                            \n",
      "==============================================================================\n",
      "Dep. Variable:                 demand   R-squared:                       0.056\n",
      "Model:                            OLS   Adj. R-squared:                  0.056\n",
      "Method:                 Least Squares   F-statistic:                     217.9\n",
      "Date:                Wed, 27 Apr 2022   Prob (F-statistic):          1.44e-226\n",
      "Time:                        11:41:40   Log-Likelihood:                -93423.\n",
      "No. Observations:               18247   AIC:                         1.869e+05\n",
      "Df Residuals:                   18241   BIC:                         1.869e+05\n",
      "Df Model:                           5                                         \n",
      "Covariance Type:            nonrobust                                         \n",
      "==============================================================================\n",
      "                 coef    std err          t      P>|t|      [0.025      0.975]\n",
      "------------------------------------------------------------------------------\n",
      "const      -9206.1218    856.241    -10.752      0.000   -1.09e+04   -7527.809\n",
      "hour           1.0758      0.046     23.452      0.000       0.986       1.166\n",
      "year           4.5823      0.424     10.811      0.000       3.752       5.413\n",
      "month          0.9621      0.095     10.137      0.000       0.776       1.148\n",
      "day           -0.1581      0.034     -4.626      0.000      -0.225      -0.091\n",
      "weekday        3.0692      0.150     20.500      0.000       2.776       3.363\n",
      "==============================================================================\n",
      "Omnibus:                     3365.592   Durbin-Watson:                   1.159\n",
      "Prob(Omnibus):                  0.000   Jarque-Bera (JB):             9482.122\n",
      "Skew:                           0.982   Prob(JB):                         0.00\n",
      "Kurtosis:                       5.935   Cond. No.                     5.77e+06\n",
      "==============================================================================\n",
      "\n",
      "Notes:\n",
      "[1] Standard Errors assume that the covariance matrix of the errors is correctly specified.\n",
      "[2] The condition number is large, 5.77e+06. This might indicate that there are\n",
      "strong multicollinearity or other numerical problems.\n"
     ]
    }
   ],
   "source": [
    "# Here applying Statistical Analysis by using Generalised Linear Model Regression or Ordinary least-squares to Check the \n",
    "# relationship between the dependent and independent Variables\n",
    "# So the Columns which has Value Greater than P-Value than Significance Value (0.05) are not Signicant for the target or less \n",
    "# Contribute for Target Variable \n",
    "\n",
    "\n",
    "from sklearn import datasets, linear_model\n",
    "from sklearn.linear_model import LinearRegression\n",
    "import statsmodels.api as ms\n",
    "from scipy import stats\n",
    "\n",
    "\n",
    "X2 = ms.add_constant(X)\n",
    "est = ms.OLS(y, X2)\n",
    "est2 = est.fit()\n",
    "print(est2.summary())"
   ]
  },
  {
   "cell_type": "code",
   "execution_count": 29,
   "metadata": {},
   "outputs": [],
   "source": [
    "# Importing Libraries for Model \n",
    "\n",
    "from sklearn.metrics import mean_squared_error, mean_absolute_error, r2_score\n",
    "from sklearn.model_selection import train_test_split\n",
    "from sklearn.ensemble import RandomForestRegressor # ML\n",
    "from sklearn.inspection import permutation_importance # computing feature importance"
   ]
  },
  {
   "cell_type": "code",
   "execution_count": 30,
   "metadata": {},
   "outputs": [],
   "source": [
    "## Splitting the data into Training and Testing Set\n",
    "\n",
    "X_train, X_test, y_train, y_test= train_test_split(X, y, test_size=0.01, random_state=41)"
   ]
  },
  {
   "cell_type": "code",
   "execution_count": 31,
   "metadata": {},
   "outputs": [],
   "source": [
    "# Defining the model \n",
    "rf_model = RandomForestRegressor(random_state=1)\n",
    "\n",
    "# Fitting the model \n",
    "rf_model.fit(X_train, y_train)\n",
    "\n",
    "# Prediction\n",
    "y_pred = rf_model.predict(X_test)\n",
    "pred = pd.DataFrame(y_pred)"
   ]
  },
  {
   "cell_type": "code",
   "execution_count": 32,
   "metadata": {},
   "outputs": [],
   "source": [
    "#classifiaction.\n",
    "from sklearn.linear_model import LogisticRegression\n",
    "from sklearn.svm import LinearSVC,SVC\n",
    "from sklearn.neighbors import KNeighborsClassifier\n",
    "from sklearn.ensemble import RandomForestClassifier,GradientBoostingClassifier\n",
    "from sklearn.tree import DecisionTreeClassifier\n",
    "from sklearn.naive_bayes import GaussianNB\n",
    "\n",
    "#regression\n",
    "from sklearn.linear_model import LinearRegression,Ridge,Lasso,RidgeCV\n",
    "from sklearn.ensemble import RandomForestRegressor,BaggingRegressor,GradientBoostingRegressor,AdaBoostRegressor\n",
    "from sklearn.svm import SVR\n",
    "from sklearn.neighbors import KNeighborsRegressor\n",
    "\n",
    "#model selection\n",
    "from sklearn.model_selection import train_test_split,cross_validate\n",
    "from sklearn.model_selection import KFold\n",
    "from sklearn.model_selection import GridSearchCV\n",
    "\n",
    "#evaluation metrics\n",
    "from sklearn.metrics import mean_squared_log_error,mean_squared_error, r2_score,mean_absolute_error # for regression\n",
    "from sklearn.metrics import accuracy_score,precision_score,recall_score,f1_score  # for classification"
   ]
  },
  {
   "cell_type": "code",
   "execution_count": 33,
   "metadata": {},
   "outputs": [],
   "source": [
    "# This below two Function Calculate RMSE, MSE, MAE, R2 Score for the Model\n",
    "\n",
    "\n",
    "def rmse_cv(model):\n",
    "    rmse = np.sqrt(-cross_val_score(model, X, y, scoring=\"neg_mean_squared_error\", cv=5)).mean()\n",
    "    return rmse\n",
    "    \n",
    "def evaluation(y, predictions):\n",
    "    mae = mean_absolute_error(y, predictions)\n",
    "    mse = mean_squared_error(y, predictions)\n",
    "    rmse = np.sqrt(mean_squared_error(y, predictions))\n",
    "    r_squared = r2_score(y, predictions)\n",
    "    return mae, mse, rmse, r_squared"
   ]
  },
  {
   "cell_type": "code",
   "execution_count": 34,
   "metadata": {},
   "outputs": [
    {
     "name": "stdout",
     "output_type": "stream",
     "text": [
      "{'Modelling Algo': ['RandomForestRegressor', 'AdaBoostRegressor', 'BaggingRegressor', 'SVR', 'KNeighborsRegressor'], 'RMSLE': [0.3971642637077278, 0.47279527733852056, 0.4242828196803251, 0.4523748240540048, 0.42028728371070095]}\n"
     ]
    }
   ],
   "source": [
    "models=[RandomForestRegressor(),AdaBoostRegressor(),BaggingRegressor(),SVR(),KNeighborsRegressor()]\n",
    "model_names=['RandomForestRegressor','AdaBoostRegressor','BaggingRegressor','SVR','KNeighborsRegressor']\n",
    "rmsle=[]\n",
    "d={}\n",
    "for model in range (len(models)):\n",
    "    clf=models[model]\n",
    "    clf.fit(X_train,y_train)\n",
    "    test_pred=clf.predict(X_test)\n",
    "    rmsle.append(mean_squared_log_error(test_pred,y_test))\n",
    "d={'Modelling Algo':model_names,'RMSLE':rmsle}   \n",
    "print(d)\n",
    "\n"
   ]
  },
  {
   "cell_type": "markdown",
   "metadata": {},
   "source": [
    "## Install the Module if not have \n",
    "###### LightGBM - LightGBM splits the tree leaf-wise as opposed to other boosting algorithms that grow tree level-wise. It chooses the leaf with maximum delta loss to grow. Since the leaf is fixed, the leaf-wise algorithm has lower loss compared to the level-wise algorithm.\n",
    "pip install lightgbm"
   ]
  },
  {
   "cell_type": "code",
   "execution_count": 35,
   "metadata": {
    "scrolled": false
   },
   "outputs": [
    {
     "name": "stdout",
     "output_type": "stream",
     "text": [
      "[LightGBM] [Warning] min_sum_hessian_in_leaf is set=20, min_child_weight=0.001 will be ignored. Current value: min_sum_hessian_in_leaf=20\n",
      "[1]\tvalid_0's rmse: 39.7011\tvalid_0's l2: 1576.17\n",
      "[2]\tvalid_0's rmse: 38.4293\tvalid_0's l2: 1476.81\n",
      "[3]\tvalid_0's rmse: 37.4123\tvalid_0's l2: 1399.68\n",
      "[4]\tvalid_0's rmse: 36.5771\tvalid_0's l2: 1337.88\n",
      "[5]\tvalid_0's rmse: 35.6774\tvalid_0's l2: 1272.87\n",
      "[6]\tvalid_0's rmse: 35.1078\tvalid_0's l2: 1232.55\n",
      "[7]\tvalid_0's rmse: 34.5828\tvalid_0's l2: 1195.97\n",
      "[8]\tvalid_0's rmse: 34.0662\tvalid_0's l2: 1160.51\n",
      "[9]\tvalid_0's rmse: 33.6527\tvalid_0's l2: 1132.51\n",
      "[10]\tvalid_0's rmse: 33.316\tvalid_0's l2: 1109.96\n",
      "[11]\tvalid_0's rmse: 33.143\tvalid_0's l2: 1098.46\n",
      "[12]\tvalid_0's rmse: 32.9068\tvalid_0's l2: 1082.86\n",
      "[13]\tvalid_0's rmse: 32.6757\tvalid_0's l2: 1067.7\n",
      "[14]\tvalid_0's rmse: 32.5697\tvalid_0's l2: 1060.78\n",
      "[15]\tvalid_0's rmse: 32.4448\tvalid_0's l2: 1052.66\n",
      "[16]\tvalid_0's rmse: 32.3074\tvalid_0's l2: 1043.77\n",
      "[17]\tvalid_0's rmse: 32.1948\tvalid_0's l2: 1036.5\n",
      "[18]\tvalid_0's rmse: 32.0696\tvalid_0's l2: 1028.46\n",
      "[19]\tvalid_0's rmse: 32.0382\tvalid_0's l2: 1026.45\n",
      "[20]\tvalid_0's rmse: 31.9859\tvalid_0's l2: 1023.1\n",
      "[21]\tvalid_0's rmse: 31.9072\tvalid_0's l2: 1018.07\n",
      "[22]\tvalid_0's rmse: 31.9042\tvalid_0's l2: 1017.88\n",
      "[23]\tvalid_0's rmse: 31.8535\tvalid_0's l2: 1014.65\n",
      "[24]\tvalid_0's rmse: 31.8645\tvalid_0's l2: 1015.35\n",
      "[25]\tvalid_0's rmse: 31.824\tvalid_0's l2: 1012.77\n",
      "[26]\tvalid_0's rmse: 31.7575\tvalid_0's l2: 1008.54\n",
      "[27]\tvalid_0's rmse: 31.7255\tvalid_0's l2: 1006.51\n",
      "[28]\tvalid_0's rmse: 31.6436\tvalid_0's l2: 1001.32\n",
      "[29]\tvalid_0's rmse: 31.6659\tvalid_0's l2: 1002.73\n",
      "[30]\tvalid_0's rmse: 31.6173\tvalid_0's l2: 999.656\n",
      "[31]\tvalid_0's rmse: 31.5784\tvalid_0's l2: 997.193\n",
      "[32]\tvalid_0's rmse: 31.604\tvalid_0's l2: 998.81\n",
      "[33]\tvalid_0's rmse: 31.4832\tvalid_0's l2: 991.192\n",
      "[34]\tvalid_0's rmse: 31.4219\tvalid_0's l2: 987.339\n",
      "[35]\tvalid_0's rmse: 31.4516\tvalid_0's l2: 989.205\n",
      "[36]\tvalid_0's rmse: 31.3896\tvalid_0's l2: 985.307\n",
      "[37]\tvalid_0's rmse: 31.3575\tvalid_0's l2: 983.294\n",
      "[38]\tvalid_0's rmse: 31.3309\tvalid_0's l2: 981.628\n",
      "[39]\tvalid_0's rmse: 31.3523\tvalid_0's l2: 982.964\n",
      "[40]\tvalid_0's rmse: 31.3279\tvalid_0's l2: 981.438\n",
      "[41]\tvalid_0's rmse: 31.3301\tvalid_0's l2: 981.577\n",
      "[42]\tvalid_0's rmse: 31.3387\tvalid_0's l2: 982.113\n",
      "[43]\tvalid_0's rmse: 31.3529\tvalid_0's l2: 983.003\n",
      "[44]\tvalid_0's rmse: 31.4047\tvalid_0's l2: 986.256\n",
      "[45]\tvalid_0's rmse: 31.3672\tvalid_0's l2: 983.901\n",
      "[46]\tvalid_0's rmse: 31.3776\tvalid_0's l2: 984.553\n",
      "[47]\tvalid_0's rmse: 31.3989\tvalid_0's l2: 985.891\n",
      "[48]\tvalid_0's rmse: 31.4051\tvalid_0's l2: 986.283\n",
      "[49]\tvalid_0's rmse: 31.4104\tvalid_0's l2: 986.616\n",
      "[50]\tvalid_0's rmse: 31.4234\tvalid_0's l2: 987.431\n",
      "[51]\tvalid_0's rmse: 31.4351\tvalid_0's l2: 988.167\n",
      "[52]\tvalid_0's rmse: 31.4192\tvalid_0's l2: 987.165\n",
      "[53]\tvalid_0's rmse: 31.4404\tvalid_0's l2: 988.499\n",
      "[54]\tvalid_0's rmse: 31.441\tvalid_0's l2: 988.539\n",
      "[55]\tvalid_0's rmse: 31.4913\tvalid_0's l2: 991.704\n",
      "[56]\tvalid_0's rmse: 31.4621\tvalid_0's l2: 989.865\n",
      "[57]\tvalid_0's rmse: 31.4294\tvalid_0's l2: 987.808\n",
      "[58]\tvalid_0's rmse: 31.4171\tvalid_0's l2: 987.031\n",
      "[59]\tvalid_0's rmse: 31.4112\tvalid_0's l2: 986.664\n",
      "[60]\tvalid_0's rmse: 31.4267\tvalid_0's l2: 987.638\n",
      "[61]\tvalid_0's rmse: 31.3855\tvalid_0's l2: 985.05\n",
      "[62]\tvalid_0's rmse: 31.4017\tvalid_0's l2: 986.065\n",
      "[63]\tvalid_0's rmse: 31.3938\tvalid_0's l2: 985.571\n",
      "[64]\tvalid_0's rmse: 31.3632\tvalid_0's l2: 983.651\n",
      "[65]\tvalid_0's rmse: 31.3383\tvalid_0's l2: 982.092\n",
      "[66]\tvalid_0's rmse: 31.377\tvalid_0's l2: 984.515\n",
      "[67]\tvalid_0's rmse: 31.4078\tvalid_0's l2: 986.451\n",
      "[68]\tvalid_0's rmse: 31.4253\tvalid_0's l2: 987.55\n",
      "[69]\tvalid_0's rmse: 31.4352\tvalid_0's l2: 988.17\n",
      "[70]\tvalid_0's rmse: 31.403\tvalid_0's l2: 986.148\n",
      "[71]\tvalid_0's rmse: 31.4043\tvalid_0's l2: 986.233\n",
      "[72]\tvalid_0's rmse: 31.3878\tvalid_0's l2: 985.195\n",
      "[73]\tvalid_0's rmse: 31.3955\tvalid_0's l2: 985.678\n",
      "[74]\tvalid_0's rmse: 31.399\tvalid_0's l2: 985.895\n",
      "[75]\tvalid_0's rmse: 31.418\tvalid_0's l2: 987.09\n",
      "[76]\tvalid_0's rmse: 31.4237\tvalid_0's l2: 987.446\n",
      "[77]\tvalid_0's rmse: 31.4554\tvalid_0's l2: 989.442\n",
      "[78]\tvalid_0's rmse: 31.4326\tvalid_0's l2: 988.008\n",
      "[79]\tvalid_0's rmse: 31.4379\tvalid_0's l2: 988.343\n",
      "[80]\tvalid_0's rmse: 31.4378\tvalid_0's l2: 988.336\n",
      "[81]\tvalid_0's rmse: 31.448\tvalid_0's l2: 988.976\n",
      "[82]\tvalid_0's rmse: 31.4406\tvalid_0's l2: 988.51\n",
      "[83]\tvalid_0's rmse: 31.3827\tvalid_0's l2: 984.874\n",
      "[84]\tvalid_0's rmse: 31.4045\tvalid_0's l2: 986.241\n",
      "[85]\tvalid_0's rmse: 31.3912\tvalid_0's l2: 985.409\n",
      "[86]\tvalid_0's rmse: 31.4129\tvalid_0's l2: 986.77\n",
      "[87]\tvalid_0's rmse: 31.4307\tvalid_0's l2: 987.891\n",
      "[88]\tvalid_0's rmse: 31.4453\tvalid_0's l2: 988.805\n",
      "[89]\tvalid_0's rmse: 31.4092\tvalid_0's l2: 986.537\n",
      "[90]\tvalid_0's rmse: 31.4131\tvalid_0's l2: 986.782\n",
      "[91]\tvalid_0's rmse: 31.3985\tvalid_0's l2: 985.865\n",
      "[92]\tvalid_0's rmse: 31.4335\tvalid_0's l2: 988.064\n",
      "[93]\tvalid_0's rmse: 31.4023\tvalid_0's l2: 986.102\n",
      "[94]\tvalid_0's rmse: 31.4165\tvalid_0's l2: 986.997\n",
      "[95]\tvalid_0's rmse: 31.4095\tvalid_0's l2: 986.559\n",
      "[96]\tvalid_0's rmse: 31.3637\tvalid_0's l2: 983.683\n",
      "[97]\tvalid_0's rmse: 31.3746\tvalid_0's l2: 984.364\n",
      "[98]\tvalid_0's rmse: 31.3762\tvalid_0's l2: 984.463\n",
      "[99]\tvalid_0's rmse: 31.4187\tvalid_0's l2: 987.135\n",
      "[100]\tvalid_0's rmse: 31.4149\tvalid_0's l2: 986.898\n",
      "MAE: 26.32321264909516\n",
      "MSE: 981.437526912416\n",
      "RMSE: 31.32790332774308\n",
      "R2 Score: 0.42547135340501896\n"
     ]
    }
   ],
   "source": [
    "import lightgbm as lgb\n",
    "gbm = lgb.LGBMRegressor(objective='regression', num_leaves=89,learning_rate=0.1,max_bin=200,min_sum_hessian_in_leaf = 20,\n",
    "                        max_depth= 18,verbose=-1)\n",
    "\n",
    "gbm.fit(X_train, y_train,eval_set=[(X_test, y_test)],\n",
    "    eval_metric='l2_root',\n",
    "    early_stopping_rounds=100)\n",
    "\n",
    "y_pred = gbm.predict(X_test, num_iteration=gbm.best_iteration_)\n",
    "\n",
    "mae, mse, rmse, r_squared = evaluation(y_test, y_pred)\n",
    "print(\"MAE:\", mae)\n",
    "print(\"MSE:\", mse)\n",
    "print(\"RMSE:\", rmse)\n",
    "print(\"R2 Score:\", r_squared)\n",
    "#print(\"-\"*30)\n"
   ]
  },
  {
   "cell_type": "code",
   "execution_count": 36,
   "metadata": {},
   "outputs": [
    {
     "name": "stdout",
     "output_type": "stream",
     "text": [
      "MAE: 28.426502732240436\n",
      "MSE: 1149.076456284153\n",
      "RMSE: 33.89803027145018\n",
      "R2 Score: 0.32733635798500915\n"
     ]
    }
   ],
   "source": [
    "# Defining the model \n",
    "rf_model = RandomForestRegressor(random_state=1)\n",
    "\n",
    "# Fitting the model \n",
    "rf_model.fit(X_train, y_train)\n",
    "\n",
    "# Prediction\n",
    "y_pred = rf_model.predict(X_test)\n",
    "pred = pd.DataFrame(y_pred)\n",
    "mae, mse, rmse, r_squared = evaluation(y_test, y_pred)\n",
    "print(\"MAE:\", mae)\n",
    "print(\"MSE:\", mse)\n",
    "print(\"RMSE:\", rmse)\n",
    "print(\"R2 Score:\", r_squared)"
   ]
  },
  {
   "cell_type": "markdown",
   "metadata": {},
   "source": [
    "## Prediction"
   ]
  },
  {
   "cell_type": "code",
   "execution_count": 37,
   "metadata": {},
   "outputs": [
    {
     "data": {
      "text/html": [
       "<div>\n",
       "<style scoped>\n",
       "    .dataframe tbody tr th:only-of-type {\n",
       "        vertical-align: middle;\n",
       "    }\n",
       "\n",
       "    .dataframe tbody tr th {\n",
       "        vertical-align: top;\n",
       "    }\n",
       "\n",
       "    .dataframe thead th {\n",
       "        text-align: right;\n",
       "    }\n",
       "</style>\n",
       "<table border=\"1\" class=\"dataframe\">\n",
       "  <thead>\n",
       "    <tr style=\"text-align: right;\">\n",
       "      <th></th>\n",
       "      <th>date</th>\n",
       "      <th>hour</th>\n",
       "    </tr>\n",
       "  </thead>\n",
       "  <tbody>\n",
       "    <tr>\n",
       "      <th>0</th>\n",
       "      <td>2021-03-01</td>\n",
       "      <td>0</td>\n",
       "    </tr>\n",
       "    <tr>\n",
       "      <th>1</th>\n",
       "      <td>2021-03-01</td>\n",
       "      <td>1</td>\n",
       "    </tr>\n",
       "    <tr>\n",
       "      <th>2</th>\n",
       "      <td>2021-03-01</td>\n",
       "      <td>2</td>\n",
       "    </tr>\n",
       "    <tr>\n",
       "      <th>3</th>\n",
       "      <td>2021-03-01</td>\n",
       "      <td>3</td>\n",
       "    </tr>\n",
       "    <tr>\n",
       "      <th>4</th>\n",
       "      <td>2021-03-01</td>\n",
       "      <td>5</td>\n",
       "    </tr>\n",
       "  </tbody>\n",
       "</table>\n",
       "</div>"
      ],
      "text/plain": [
       "        date  hour\n",
       "0 2021-03-01     0\n",
       "1 2021-03-01     1\n",
       "2 2021-03-01     2\n",
       "3 2021-03-01     3\n",
       "4 2021-03-01     5"
      ]
     },
     "execution_count": 37,
     "metadata": {},
     "output_type": "execute_result"
    }
   ],
   "source": [
    "test.head()"
   ]
  },
  {
   "cell_type": "code",
   "execution_count": 38,
   "metadata": {},
   "outputs": [],
   "source": [
    "## Preparing the test dataset for predictions\n",
    "\n",
    "\n",
    "test['year']= test['date'].dt.year\n",
    "test['month']= test['date'].dt.month\n",
    "test['day']= test['date'].dt.day\n",
    "test['daayofweek']=test['date'].dt.year\n",
    "# test['weekday']= test['date'].dt.weekday\n",
    "# test['weekofyear'] = test['date'].dt.weekofyear"
   ]
  },
  {
   "cell_type": "code",
   "execution_count": 39,
   "metadata": {},
   "outputs": [
    {
     "data": {
      "text/html": [
       "<div>\n",
       "<style scoped>\n",
       "    .dataframe tbody tr th:only-of-type {\n",
       "        vertical-align: middle;\n",
       "    }\n",
       "\n",
       "    .dataframe tbody tr th {\n",
       "        vertical-align: top;\n",
       "    }\n",
       "\n",
       "    .dataframe thead th {\n",
       "        text-align: right;\n",
       "    }\n",
       "</style>\n",
       "<table border=\"1\" class=\"dataframe\">\n",
       "  <thead>\n",
       "    <tr style=\"text-align: right;\">\n",
       "      <th></th>\n",
       "      <th>hour</th>\n",
       "      <th>year</th>\n",
       "      <th>month</th>\n",
       "      <th>day</th>\n",
       "      <th>daayofweek</th>\n",
       "    </tr>\n",
       "  </thead>\n",
       "  <tbody>\n",
       "    <tr>\n",
       "      <th>0</th>\n",
       "      <td>0</td>\n",
       "      <td>2021</td>\n",
       "      <td>3</td>\n",
       "      <td>1</td>\n",
       "      <td>2021</td>\n",
       "    </tr>\n",
       "    <tr>\n",
       "      <th>1</th>\n",
       "      <td>1</td>\n",
       "      <td>2021</td>\n",
       "      <td>3</td>\n",
       "      <td>1</td>\n",
       "      <td>2021</td>\n",
       "    </tr>\n",
       "    <tr>\n",
       "      <th>2</th>\n",
       "      <td>2</td>\n",
       "      <td>2021</td>\n",
       "      <td>3</td>\n",
       "      <td>1</td>\n",
       "      <td>2021</td>\n",
       "    </tr>\n",
       "    <tr>\n",
       "      <th>3</th>\n",
       "      <td>3</td>\n",
       "      <td>2021</td>\n",
       "      <td>3</td>\n",
       "      <td>1</td>\n",
       "      <td>2021</td>\n",
       "    </tr>\n",
       "    <tr>\n",
       "      <th>4</th>\n",
       "      <td>5</td>\n",
       "      <td>2021</td>\n",
       "      <td>3</td>\n",
       "      <td>1</td>\n",
       "      <td>2021</td>\n",
       "    </tr>\n",
       "    <tr>\n",
       "      <th>5</th>\n",
       "      <td>6</td>\n",
       "      <td>2021</td>\n",
       "      <td>3</td>\n",
       "      <td>1</td>\n",
       "      <td>2021</td>\n",
       "    </tr>\n",
       "    <tr>\n",
       "      <th>6</th>\n",
       "      <td>7</td>\n",
       "      <td>2021</td>\n",
       "      <td>3</td>\n",
       "      <td>1</td>\n",
       "      <td>2021</td>\n",
       "    </tr>\n",
       "    <tr>\n",
       "      <th>7</th>\n",
       "      <td>8</td>\n",
       "      <td>2021</td>\n",
       "      <td>3</td>\n",
       "      <td>1</td>\n",
       "      <td>2021</td>\n",
       "    </tr>\n",
       "    <tr>\n",
       "      <th>8</th>\n",
       "      <td>9</td>\n",
       "      <td>2021</td>\n",
       "      <td>3</td>\n",
       "      <td>1</td>\n",
       "      <td>2021</td>\n",
       "    </tr>\n",
       "    <tr>\n",
       "      <th>9</th>\n",
       "      <td>10</td>\n",
       "      <td>2021</td>\n",
       "      <td>3</td>\n",
       "      <td>1</td>\n",
       "      <td>2021</td>\n",
       "    </tr>\n",
       "  </tbody>\n",
       "</table>\n",
       "</div>"
      ],
      "text/plain": [
       "   hour  year  month  day  daayofweek\n",
       "0     0  2021      3    1        2021\n",
       "1     1  2021      3    1        2021\n",
       "2     2  2021      3    1        2021\n",
       "3     3  2021      3    1        2021\n",
       "4     5  2021      3    1        2021\n",
       "5     6  2021      3    1        2021\n",
       "6     7  2021      3    1        2021\n",
       "7     8  2021      3    1        2021\n",
       "8     9  2021      3    1        2021\n",
       "9    10  2021      3    1        2021"
      ]
     },
     "execution_count": 39,
     "metadata": {},
     "output_type": "execute_result"
    }
   ],
   "source": [
    "# Drop the date ccolumn as we have extracted the columns for our model\n",
    "\n",
    "test = test.drop(columns=['date'])\n",
    "test.head(10)"
   ]
  },
  {
   "cell_type": "markdown",
   "metadata": {},
   "source": [
    "## Prediction Lightgbm Trained Model"
   ]
  },
  {
   "cell_type": "code",
   "execution_count": 40,
   "metadata": {},
   "outputs": [
    {
     "name": "stdout",
     "output_type": "stream",
     "text": [
      "Predicted labels [63.94599849 63.28876395 63.28876395 ... 83.00109099 67.73219404\n",
      " 61.96403878]\n",
      "Actual labels 9158      91\n",
      "12215    131\n",
      "16587     72\n",
      "5089      28\n",
      "1370      58\n",
      "        ... \n",
      "14050     42\n",
      "10891     76\n",
      "15984     53\n",
      "398       87\n",
      "15772    119\n",
      "Name: demand, Length: 183, dtype: int64\n"
     ]
    }
   ],
   "source": [
    "## Prediction Using the Lightgbm Trained model\n",
    "\n",
    "predict = gbm.predict(test)\n",
    "print('Predicted labels', predict)\n",
    "print('Actual labels',   y_test)"
   ]
  },
  {
   "cell_type": "code",
   "execution_count": 41,
   "metadata": {},
   "outputs": [],
   "source": [
    "# Round the Predictions because Demand is Integer\n",
    "\n",
    "rounded = [round(x) for x in predict]\n",
    "predict = rounded"
   ]
  },
  {
   "cell_type": "code",
   "execution_count": null,
   "metadata": {},
   "outputs": [],
   "source": []
  },
  {
   "cell_type": "code",
   "execution_count": 42,
   "metadata": {},
   "outputs": [
    {
     "data": {
      "text/html": [
       "<div>\n",
       "<style scoped>\n",
       "    .dataframe tbody tr th:only-of-type {\n",
       "        vertical-align: middle;\n",
       "    }\n",
       "\n",
       "    .dataframe tbody tr th {\n",
       "        vertical-align: top;\n",
       "    }\n",
       "\n",
       "    .dataframe thead th {\n",
       "        text-align: right;\n",
       "    }\n",
       "</style>\n",
       "<table border=\"1\" class=\"dataframe\">\n",
       "  <thead>\n",
       "    <tr style=\"text-align: right;\">\n",
       "      <th></th>\n",
       "      <th>date</th>\n",
       "      <th>hour</th>\n",
       "      <th>demand</th>\n",
       "    </tr>\n",
       "  </thead>\n",
       "  <tbody>\n",
       "    <tr>\n",
       "      <th>0</th>\n",
       "      <td>2021-03-01</td>\n",
       "      <td>0</td>\n",
       "      <td>64</td>\n",
       "    </tr>\n",
       "    <tr>\n",
       "      <th>1</th>\n",
       "      <td>2021-03-01</td>\n",
       "      <td>1</td>\n",
       "      <td>63</td>\n",
       "    </tr>\n",
       "    <tr>\n",
       "      <th>2</th>\n",
       "      <td>2021-03-01</td>\n",
       "      <td>2</td>\n",
       "      <td>63</td>\n",
       "    </tr>\n",
       "    <tr>\n",
       "      <th>3</th>\n",
       "      <td>2021-03-01</td>\n",
       "      <td>3</td>\n",
       "      <td>63</td>\n",
       "    </tr>\n",
       "    <tr>\n",
       "      <th>4</th>\n",
       "      <td>2021-03-01</td>\n",
       "      <td>5</td>\n",
       "      <td>60</td>\n",
       "    </tr>\n",
       "  </tbody>\n",
       "</table>\n",
       "</div>"
      ],
      "text/plain": [
       "         date  hour  demand\n",
       "0  2021-03-01     0      64\n",
       "1  2021-03-01     1      63\n",
       "2  2021-03-01     2      63\n",
       "3  2021-03-01     3      63\n",
       "4  2021-03-01     5      60"
      ]
     },
     "execution_count": 42,
     "metadata": {},
     "output_type": "execute_result"
    }
   ],
   "source": [
    "## Storing the Submission DataFrame\n",
    "date = sample['date']\n",
    "submission = pd.DataFrame({\n",
    "                  \"date\": date,\n",
    "                  \"hour\": sample['hour'],\n",
    "                  \"demand\": predict})\n",
    "submission.head()"
   ]
  },
  {
   "cell_type": "code",
   "execution_count": 43,
   "metadata": {},
   "outputs": [],
   "source": [
    "# Storing into Prediction into CSV file\n",
    "\n",
    "submission.to_csv('Submission_Final.csv', index=False)"
   ]
  },
  {
   "cell_type": "code",
   "execution_count": 44,
   "metadata": {},
   "outputs": [
    {
     "name": "stdout",
     "output_type": "stream",
     "text": [
      "Predicted labels [73.22 62.04 70.52 ... 66.01 46.99 66.99]\n",
      "Actual labels 9158      91\n",
      "12215    131\n",
      "16587     72\n",
      "5089      28\n",
      "1370      58\n",
      "        ... \n",
      "14050     42\n",
      "10891     76\n",
      "15984     53\n",
      "398       87\n",
      "15772    119\n",
      "Name: demand, Length: 183, dtype: int64\n"
     ]
    }
   ],
   "source": [
    "### Prediction With Random Forest Regressor\n",
    "\n",
    "predict_rf = rf_model.predict(test)\n",
    "print('Predicted labels', predict_rf)\n",
    "print('Actual labels',   y_test)"
   ]
  },
  {
   "cell_type": "code",
   "execution_count": 45,
   "metadata": {},
   "outputs": [],
   "source": [
    "# Round the Predictions because Demand is Integer\n",
    "\n",
    "rounded = [round(x) for x in predict_rf]\n",
    "predict_rf = rounded"
   ]
  },
  {
   "cell_type": "code",
   "execution_count": 46,
   "metadata": {},
   "outputs": [
    {
     "data": {
      "text/html": [
       "<div>\n",
       "<style scoped>\n",
       "    .dataframe tbody tr th:only-of-type {\n",
       "        vertical-align: middle;\n",
       "    }\n",
       "\n",
       "    .dataframe tbody tr th {\n",
       "        vertical-align: top;\n",
       "    }\n",
       "\n",
       "    .dataframe thead th {\n",
       "        text-align: right;\n",
       "    }\n",
       "</style>\n",
       "<table border=\"1\" class=\"dataframe\">\n",
       "  <thead>\n",
       "    <tr style=\"text-align: right;\">\n",
       "      <th></th>\n",
       "      <th>date</th>\n",
       "      <th>hour</th>\n",
       "      <th>demand</th>\n",
       "    </tr>\n",
       "  </thead>\n",
       "  <tbody>\n",
       "    <tr>\n",
       "      <th>0</th>\n",
       "      <td>2021-03-01</td>\n",
       "      <td>0</td>\n",
       "      <td>73</td>\n",
       "    </tr>\n",
       "    <tr>\n",
       "      <th>1</th>\n",
       "      <td>2021-03-01</td>\n",
       "      <td>1</td>\n",
       "      <td>62</td>\n",
       "    </tr>\n",
       "    <tr>\n",
       "      <th>2</th>\n",
       "      <td>2021-03-01</td>\n",
       "      <td>2</td>\n",
       "      <td>71</td>\n",
       "    </tr>\n",
       "    <tr>\n",
       "      <th>3</th>\n",
       "      <td>2021-03-01</td>\n",
       "      <td>3</td>\n",
       "      <td>65</td>\n",
       "    </tr>\n",
       "    <tr>\n",
       "      <th>4</th>\n",
       "      <td>2021-03-01</td>\n",
       "      <td>5</td>\n",
       "      <td>54</td>\n",
       "    </tr>\n",
       "  </tbody>\n",
       "</table>\n",
       "</div>"
      ],
      "text/plain": [
       "         date  hour  demand\n",
       "0  2021-03-01     0      73\n",
       "1  2021-03-01     1      62\n",
       "2  2021-03-01     2      71\n",
       "3  2021-03-01     3      65\n",
       "4  2021-03-01     5      54"
      ]
     },
     "execution_count": 46,
     "metadata": {},
     "output_type": "execute_result"
    }
   ],
   "source": [
    "# Storing to Submission DataFrame\n",
    "\n",
    "date = sample['date']\n",
    "submission = pd.DataFrame({\n",
    "                  \"date\": date,\n",
    "                  \"hour\": sample['hour'],\n",
    "                  \"demand\": predict_rf})\n",
    "submission.head()"
   ]
  },
  {
   "cell_type": "code",
   "execution_count": 47,
   "metadata": {},
   "outputs": [],
   "source": [
    "# Storing into Prediction into CSV file\n",
    "\n",
    "submission.to_csv('Submission_Final_RF.csv', index=False)"
   ]
  },
  {
   "cell_type": "code",
   "execution_count": null,
   "metadata": {},
   "outputs": [],
   "source": []
  }
 ],
 "metadata": {
  "kernelspec": {
   "display_name": "Python 3",
   "language": "python",
   "name": "python3"
  },
  "language_info": {
   "codemirror_mode": {
    "name": "ipython",
    "version": 3
   },
   "file_extension": ".py",
   "mimetype": "text/x-python",
   "name": "python",
   "nbconvert_exporter": "python",
   "pygments_lexer": "ipython3",
   "version": "3.8.5"
  }
 },
 "nbformat": 4,
 "nbformat_minor": 4
}
